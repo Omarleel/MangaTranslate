{
  "cells": [
    {
      "cell_type": "code",
      "execution_count": null,
      "metadata": {
        "id": "jPzTIy7aV-5Y"
      },
      "outputs": [],
      "source": [
        "#@title <font color='#018ada'>[1] Clonar repositorio e instalar dependencias</font> { display-mode: \"form\" }\n",
        "%cd /content\n",
        "# Clonar el repositorio\n",
        "!git clone https://github.com/Omarleel/MangaTranslate\n",
        "# Accede al proyecto\n",
        "%cd MangaTranslate\n",
        "# Instalar dependencias\n",
        "!pip install -r requirements/requirements.txt\n",
        "# Instalar dependencia adicional\n",
        "!wget http://archive.ubuntu.com/ubuntu/pool/main/o/openssl/libssl1.1_1.1.0g-2ubuntu4_amd64.deb\n",
        "!sudo dpkg -i libssl1.1_1.1.0g-2ubuntu4_amd64.deb"
      ]
    },
    {
      "cell_type": "code",
      "execution_count": null,
      "metadata": {
        "id": "rfOn0EuuWBWe"
      },
      "outputs": [],
      "source": [
        "#@title <font color='#018ada'>[2] Interfaz MangaTranslate</font> { display-mode: \"form\" }\n",
        "from Applications.GoogleDriveManager import GoogleDriveManager\n",
        "from Widgets.AppColab import AppColab\n",
        "class MangaTranslate:\n",
        "    def __init__(self):\n",
        "        self.drive_manager = GoogleDriveManager()\n",
        "        self.app_colab = AppColab(self.drive_manager)\n",
        "        self.app_colab.crear_widgets()\n",
        "\n",
        "MangaTranslate = MangaTranslate()"
      ]
    }
  ],
  "metadata": {
    "accelerator": "GPU",
    "colab": {
      "gpuType": "T4",
      "provenance": []
    },
    "kernelspec": {
      "display_name": "Python 3",
      "name": "python3"
    },
    "language_info": {
      "name": "python"
    }
  },
  "nbformat": 4,
  "nbformat_minor": 0
}
